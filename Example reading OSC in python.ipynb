{
 "cells": [
  {
   "cell_type": "code",
   "execution_count": 75,
   "metadata": {},
   "outputs": [
    {
     "name": "stdout",
     "output_type": "stream",
     "text": [
      "(10, 12, 15, 16)\n",
      "(10, 12, 15, 16)\n",
      "(10, 12, 15, 16)\n",
      "(10, 12, 15, 16)\n",
      "(10, 12, 15, 16)\n",
      "(10, 12, 15, 16)\n",
      "(10, 12, 15, 16)\n",
      "(10, 12, 15, 16)\n",
      "(10, 12, 15, 16)\n",
      "(10, 12, 15, 16)\n",
      "(10, 12, 15, 16)\n",
      "(10, 12, 15, 16, 20)\n",
      "(10, 12, 15, 16, 20)\n",
      "(10, 12, 15, 16, 20)\n",
      "(10, 12, 15, 16, 20)\n",
      "(10, 12, 15, 16, 20)\n",
      "(10, 12, 15, 16, 20)\n"
     ]
    }
   ],
   "source": [
    "from oscpy.server import OSCThreadServer\n",
    "from time import sleep\n",
    "\n",
    "osc = OSCThreadServer()\n",
    "sock = osc.listen(address='0.0.0.0', port=8000, default=True)\n",
    "\n",
    "@osc.address(b'/hello/world')\n",
    "def callback(*datav):\n",
    "    print(datav)\n"
   ]
  },
  {
   "cell_type": "code",
   "execution_count": 76,
   "metadata": {},
   "outputs": [
    {
     "name": "stdout",
     "output_type": "stream",
     "text": [
      "OSC closed\n"
     ]
    }
   ],
   "source": [
    "if (osc.default_socket):\n",
    "    osc.close()\n",
    "    sock.close()\n",
    "    print(\"OSC closed\")\n",
    "else:\n",
    "    sock.close()\n",
    "    print(\"Already closed\")"
   ]
  },
  {
   "cell_type": "code",
   "execution_count": null,
   "metadata": {},
   "outputs": [],
   "source": []
  }
 ],
 "metadata": {
  "kernelspec": {
   "display_name": "Python 3",
   "language": "python",
   "name": "python3"
  },
  "language_info": {
   "codemirror_mode": {
    "name": "ipython",
    "version": 3
   },
   "file_extension": ".py",
   "mimetype": "text/x-python",
   "name": "python",
   "nbconvert_exporter": "python",
   "pygments_lexer": "ipython3",
   "version": "3.6.7"
  }
 },
 "nbformat": 4,
 "nbformat_minor": 2
}
